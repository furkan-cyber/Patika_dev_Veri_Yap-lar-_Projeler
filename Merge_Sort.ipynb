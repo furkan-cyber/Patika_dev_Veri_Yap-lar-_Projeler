{
 "cells": [
  {
   "cell_type": "markdown",
   "metadata": {},
   "source": [
    "#Soru\n",
    "[16,21,11,8,12,22] -> Merge Sort\n",
    "\n",
    "Yukarıdaki dizinin sort türüne göre aşamalarını yazınız.\n",
    "Big-O gösterimini yazınız.\n",
    "\n",
    "#Cevap\n",
    "\n",
    "Big-O->o(n*logn)\n",
    "\n",
    "\n",
    "                     [16,21,11,8,12,22]\n",
    "       \n",
    "       \n",
    "Aşama 1->       [16,21,11]       [8,12,22]\n",
    "\n",
    "\n",
    "Aşama 2->   [16]    [21,11]    [8]     [12,22]\n",
    "\n",
    "\n",
    "Aşama 3->   [16]    [21] [11]  [8]     [12] [22]\n",
    "\n",
    "\n",
    "Aşama4->    [16]     [11,21]    [8]      [12,22]\n",
    "\n",
    "\n",
    "Aşama5->     [11,16,21]           [8,12,22]\n",
    "\n",
    "\n",
    "Aşama6->           [8,11,12,16,21,22]"
   ]
  }
 ],
 "metadata": {
  "kernelspec": {
   "display_name": "Python 3",
   "language": "python",
   "name": "python3"
  },
  "language_info": {
   "codemirror_mode": {
    "name": "ipython",
    "version": 3
   },
   "file_extension": ".py",
   "mimetype": "text/x-python",
   "name": "python",
   "nbconvert_exporter": "python",
   "pygments_lexer": "ipython3",
   "version": "3.8.5"
  }
 },
 "nbformat": 4,
 "nbformat_minor": 4
}
