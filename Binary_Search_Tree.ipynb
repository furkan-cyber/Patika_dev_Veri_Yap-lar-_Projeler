{
 "cells": [
  {
   "cell_type": "markdown",
   "metadata": {},
   "source": [
    "#Soru [7, 5, 1, 8, 3, 6, 0, 9, 4, 2] dizisinin Binary-Search-Tree aşamalarını yazınız.\n",
    "\n",
    "Örnek: root x'dir. root'un sağından y bulunur. Solunda z bulunur vb.\n",
    "\n",
    "#Cevap \n",
    " \n",
    "                                          x==4\n",
    "                                          \n",
    "                                           4\n",
    "                                        2    6\n",
    "                                     1   3  5   8\n",
    "                                  0           7   9\n",
    "                                  \n",
    "                     \n",
    "       "
   ]
  }
 ],
 "metadata": {
  "kernelspec": {
   "display_name": "Python 3",
   "language": "python",
   "name": "python3"
  },
  "language_info": {
   "codemirror_mode": {
    "name": "ipython",
    "version": 3
   },
   "file_extension": ".py",
   "mimetype": "text/x-python",
   "name": "python",
   "nbconvert_exporter": "python",
   "pygments_lexer": "ipython3",
   "version": "3.8.5"
  }
 },
 "nbformat": 4,
 "nbformat_minor": 4
}
