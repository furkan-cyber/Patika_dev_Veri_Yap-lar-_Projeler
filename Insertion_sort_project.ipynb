{
 "cells": [
  {
   "cell_type": "markdown",
   "metadata": {},
   "source": [
    "#Soru [22,27,16,2,18,6] -> Insertion Sort\n",
    "\n",
    "Yukarı verilen dizinin sort türüne göre aşamalarını yazınız.\n",
    "Big-O gösterimini yazınız.\n",
    "Time Complexity: Average case: Aradığımız sayının ortada olması,Worst case: Aradığımız sayının sonda olması, Best case: Aradığımız sayının dizinin en başında olması.\n",
    "Dizi sıralandıktan sonra 18 sayısı hangi case kapsamına girer? Yazınız.\n",
    "\n",
    "\n",
    "[7,3,5,8,2,9,4,15,6] dizisinin Insertion Sort'a göre ilk 4 adımını yazınız.\n",
    "\n",
    "#Cevap\n",
    "\n",
    "aşama 1->[2,27,16,22,18,6]\n",
    "\n",
    "aşama 2->[2,6,16,22,18,27]\n",
    "\n",
    "aşama 3->[2,6,16,18,22,27]\n",
    "\n",
    "big-O->O(n^2)\n",
    "\n",
    "18->Average case\n",
    "\n",
    "aşama 1->[2,3,5,8,7,9,4,15,6]\n",
    "\n",
    "aşama 2->[2,3,4,8,7,9,5,15,6]\n",
    "\n",
    "aşama 3->[2,3,4,5,7,9,8,15,6]\n",
    "\n",
    "aşama 4->[2,3,4,5,6,9,8,15,7]\n"
   ]
  },
  {
   "cell_type": "code",
   "execution_count": null,
   "metadata": {},
   "outputs": [],
   "source": []
  }
 ],
 "metadata": {
  "kernelspec": {
   "display_name": "Python 3",
   "language": "python",
   "name": "python3"
  },
  "language_info": {
   "codemirror_mode": {
    "name": "ipython",
    "version": 3
   },
   "file_extension": ".py",
   "mimetype": "text/x-python",
   "name": "python",
   "nbconvert_exporter": "python",
   "pygments_lexer": "ipython3",
   "version": "3.8.5"
  }
 },
 "nbformat": 4,
 "nbformat_minor": 4
}
